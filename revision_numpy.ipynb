{
  "nbformat": 4,
  "nbformat_minor": 0,
  "metadata": {
    "colab": {
      "name": "revision_numpy.ipynb",
      "provenance": [],
      "authorship_tag": "ABX9TyNeur7ZedlDy3n9f8lIkAXP",
      "include_colab_link": true
    },
    "kernelspec": {
      "name": "python3",
      "display_name": "Python 3"
    },
    "language_info": {
      "name": "python"
    }
  },
  "cells": [
    {
      "cell_type": "markdown",
      "metadata": {
        "id": "view-in-github",
        "colab_type": "text"
      },
      "source": [
        "<a href=\"https://colab.research.google.com/github/spshreya/dataAnalytics/blob/main/revision_numpy.ipynb\" target=\"_parent\"><img src=\"https://colab.research.google.com/assets/colab-badge.svg\" alt=\"Open In Colab\"/></a>"
      ]
    },
    {
      "cell_type": "markdown",
      "metadata": {
        "id": "xgoOgzrQMTcB"
      },
      "source": [
        "NUMPY REVISION"
      ]
    },
    {
      "cell_type": "code",
      "metadata": {
        "id": "VnoEZ6EpLtK0"
      },
      "source": [
        "import numpy as np"
      ],
      "execution_count": 51,
      "outputs": []
    },
    {
      "cell_type": "code",
      "metadata": {
        "colab": {
          "base_uri": "https://localhost:8080/"
        },
        "id": "0vtJbcCCLw5-",
        "outputId": "c82b2d69-a3c7-4c31-aa4f-2095e0e316e2"
      },
      "source": [
        "a = np.array([1,2,3,4])\n",
        "b = np.array([0, 0.5, 1, 1.5, 2])\n",
        "type(a)"
      ],
      "execution_count": 2,
      "outputs": [
        {
          "output_type": "execute_result",
          "data": {
            "text/plain": [
              "numpy.ndarray"
            ]
          },
          "metadata": {},
          "execution_count": 2
        }
      ]
    },
    {
      "cell_type": "code",
      "metadata": {
        "colab": {
          "base_uri": "https://localhost:8080/"
        },
        "id": "rPAFHc21NmbE",
        "outputId": "6787361f-5975-47ed-a549-760f5f40c647"
      },
      "source": [
        "a.dtype"
      ],
      "execution_count": 3,
      "outputs": [
        {
          "output_type": "execute_result",
          "data": {
            "text/plain": [
              "dtype('int64')"
            ]
          },
          "metadata": {},
          "execution_count": 3
        }
      ]
    },
    {
      "cell_type": "code",
      "metadata": {
        "colab": {
          "base_uri": "https://localhost:8080/"
        },
        "id": "RoVX3FS7N1X5",
        "outputId": "86e42c63-fa40-40f1-8d66-7570dae3034a"
      },
      "source": [
        "a = np.array([1,2,3,4], dtype='int8')\n",
        "a.dtype"
      ],
      "execution_count": 4,
      "outputs": [
        {
          "output_type": "execute_result",
          "data": {
            "text/plain": [
              "dtype('int8')"
            ]
          },
          "metadata": {},
          "execution_count": 4
        }
      ]
    },
    {
      "cell_type": "code",
      "metadata": {
        "colab": {
          "base_uri": "https://localhost:8080/"
        },
        "id": "Uy1YhdiBMFKw",
        "outputId": "ba9d7335-3b0f-4802-be31-4f5d10ac0d53"
      },
      "source": [
        "a[0], a[1]"
      ],
      "execution_count": 5,
      "outputs": [
        {
          "output_type": "execute_result",
          "data": {
            "text/plain": [
              "(1, 2)"
            ]
          },
          "metadata": {},
          "execution_count": 5
        }
      ]
    },
    {
      "cell_type": "code",
      "metadata": {
        "colab": {
          "base_uri": "https://localhost:8080/"
        },
        "id": "6vgtPcBjMKxq",
        "outputId": "7be81acd-b606-4721-f13e-2712d74287bc"
      },
      "source": [
        "b[0], b[2], b[-1]  "
      ],
      "execution_count": 6,
      "outputs": [
        {
          "output_type": "execute_result",
          "data": {
            "text/plain": [
              "(0.0, 1.0, 2.0)"
            ]
          },
          "metadata": {},
          "execution_count": 6
        }
      ]
    },
    {
      "cell_type": "code",
      "metadata": {
        "colab": {
          "base_uri": "https://localhost:8080/"
        },
        "id": "MB5-xwfWNOgV",
        "outputId": "895bc7df-1816-415a-ca99-67041e587bfd"
      },
      "source": [
        "b[[0,2,-1]] #multi indexing which can not be found in lists but np arrays\n"
      ],
      "execution_count": 7,
      "outputs": [
        {
          "output_type": "execute_result",
          "data": {
            "text/plain": [
              "array([0., 1., 2.])"
            ]
          },
          "metadata": {},
          "execution_count": 7
        }
      ]
    },
    {
      "cell_type": "code",
      "metadata": {
        "colab": {
          "base_uri": "https://localhost:8080/"
        },
        "id": "o1QZmCCWMRm4",
        "outputId": "f9ec0cd5-1d7d-4b32-e5b4-c9aad86cfb89"
      },
      "source": [
        "a[1:]"
      ],
      "execution_count": 8,
      "outputs": [
        {
          "output_type": "execute_result",
          "data": {
            "text/plain": [
              "array([2, 3, 4], dtype=int8)"
            ]
          },
          "metadata": {},
          "execution_count": 8
        }
      ]
    },
    {
      "cell_type": "code",
      "metadata": {
        "colab": {
          "base_uri": "https://localhost:8080/"
        },
        "id": "qphklpDdMbei",
        "outputId": "f7c14572-8de0-4eb5-f7f4-9dd42092d665"
      },
      "source": [
        "a[1:-1]"
      ],
      "execution_count": 9,
      "outputs": [
        {
          "output_type": "execute_result",
          "data": {
            "text/plain": [
              "array([2, 3], dtype=int8)"
            ]
          },
          "metadata": {},
          "execution_count": 9
        }
      ]
    },
    {
      "cell_type": "code",
      "metadata": {
        "colab": {
          "base_uri": "https://localhost:8080/"
        },
        "id": "5dsqC4lJMfn8",
        "outputId": "f8bd7fce-e135-4e25-e7ae-e19a99a87714"
      },
      "source": [
        "a[::2]   #[x::y] prints yth element from the list starting from x"
      ],
      "execution_count": 10,
      "outputs": [
        {
          "output_type": "execute_result",
          "data": {
            "text/plain": [
              "array([1, 3], dtype=int8)"
            ]
          },
          "metadata": {},
          "execution_count": 10
        }
      ]
    },
    {
      "cell_type": "code",
      "metadata": {
        "colab": {
          "base_uri": "https://localhost:8080/"
        },
        "id": "-xH199sMMiqY",
        "outputId": "a47b03b5-00ea-447b-a468-18ea2b5df893"
      },
      "source": [
        "#multidimensional array\n",
        "aa = np.array([\n",
        "               [1,2,3],\n",
        "               [4,5,6]\n",
        "], dtype='int8')\n",
        "aa.dtype"
      ],
      "execution_count": 11,
      "outputs": [
        {
          "output_type": "execute_result",
          "data": {
            "text/plain": [
              "dtype('int8')"
            ]
          },
          "metadata": {},
          "execution_count": 11
        }
      ]
    },
    {
      "cell_type": "code",
      "metadata": {
        "colab": {
          "base_uri": "https://localhost:8080/"
        },
        "id": "JLaOAQ21Oe9w",
        "outputId": "5c206ff6-8acf-405e-cfaf-908e3eb2919f"
      },
      "source": [
        "print('shape =',aa.shape)\n",
        "print('dimensions=', aa.ndim)\n",
        "print('size=', aa.size)"
      ],
      "execution_count": 12,
      "outputs": [
        {
          "output_type": "stream",
          "name": "stdout",
          "text": [
            "shape = (2, 3)\n",
            "dimensions= 2\n",
            "size= 6\n"
          ]
        }
      ]
    },
    {
      "cell_type": "code",
      "metadata": {
        "colab": {
          "base_uri": "https://localhost:8080/"
        },
        "id": "OIq_c-3sO2vU",
        "outputId": "e86b9801-df49-4c62-929a-8451add05a7c"
      },
      "source": [
        "#a dimension further\n",
        "bb = np.array([\n",
        "               [\n",
        "                [1,2,3],\n",
        "                [4,5,6]\n",
        "               ],\n",
        "               [\n",
        "                [6,7,8],\n",
        "                [9,10,11]\n",
        "               ]\n",
        "], dtype='float64')\n",
        "bb"
      ],
      "execution_count": 13,
      "outputs": [
        {
          "output_type": "execute_result",
          "data": {
            "text/plain": [
              "array([[[ 1.,  2.,  3.],\n",
              "        [ 4.,  5.,  6.]],\n",
              "\n",
              "       [[ 6.,  7.,  8.],\n",
              "        [ 9., 10., 11.]]])"
            ]
          },
          "metadata": {},
          "execution_count": 13
        }
      ]
    },
    {
      "cell_type": "code",
      "metadata": {
        "colab": {
          "base_uri": "https://localhost:8080/"
        },
        "id": "Gi0MGURkP8_1",
        "outputId": "fc75baea-9ae9-40cc-b449-4131b3c4b667"
      },
      "source": [
        "print('shape =',bb.shape)\n",
        "print('dimensions=', bb.ndim)\n",
        "print('size=', bb.size)"
      ],
      "execution_count": 14,
      "outputs": [
        {
          "output_type": "stream",
          "name": "stdout",
          "text": [
            "shape = (2, 2, 3)\n",
            "dimensions= 3\n",
            "size= 12\n"
          ]
        }
      ]
    },
    {
      "cell_type": "code",
      "metadata": {
        "colab": {
          "base_uri": "https://localhost:8080/"
        },
        "id": "jRCqZxrCQQQ_",
        "outputId": "68bc01ce-4e58-4d26-db2d-c999986c4378"
      },
      "source": [
        "#in case of mismatched rows - notice the difference\n",
        "c = np.array([\n",
        "              [\n",
        "               [1,2,3],\n",
        "               [4,5,6]\n",
        "              ],\n",
        "              [\n",
        "               [7,8,9]\n",
        "              ]\n",
        "])\n",
        "c.dtype"
      ],
      "execution_count": 15,
      "outputs": [
        {
          "output_type": "stream",
          "name": "stderr",
          "text": [
            "/usr/local/lib/python3.7/dist-packages/ipykernel_launcher.py:8: VisibleDeprecationWarning: Creating an ndarray from ragged nested sequences (which is a list-or-tuple of lists-or-tuples-or ndarrays with different lengths or shapes) is deprecated. If you meant to do this, you must specify 'dtype=object' when creating the ndarray\n",
            "  \n"
          ]
        },
        {
          "output_type": "execute_result",
          "data": {
            "text/plain": [
              "dtype('O')"
            ]
          },
          "metadata": {},
          "execution_count": 15
        }
      ]
    },
    {
      "cell_type": "code",
      "metadata": {
        "colab": {
          "base_uri": "https://localhost:8080/"
        },
        "id": "Yv8T873CQyYd",
        "outputId": "73863792-4ba0-48e8-8130-db4d8283020e"
      },
      "source": [
        "print('shape =',c.shape)\n",
        "print('dimensions=', c.ndim)\n",
        "print('size=', c.size)"
      ],
      "execution_count": 16,
      "outputs": [
        {
          "output_type": "stream",
          "name": "stdout",
          "text": [
            "shape = (2,)\n",
            "dimensions= 1\n",
            "size= 2\n"
          ]
        }
      ]
    },
    {
      "cell_type": "code",
      "metadata": {
        "id": "ecI53vibQ4X1"
      },
      "source": [
        "#slicing nad indexing square matrix\n",
        "a= np.array([\n",
        "    [1,2,3],\n",
        "    [4,5,6],\n",
        "    [7,8,9]\n",
        "])"
      ],
      "execution_count": 17,
      "outputs": []
    },
    {
      "cell_type": "code",
      "metadata": {
        "id": "XtL1CMRcRQs1",
        "colab": {
          "base_uri": "https://localhost:8080/"
        },
        "outputId": "d4205885-a465-45aa-cf8e-3abff8ec93e2"
      },
      "source": [
        "a[1][0]"
      ],
      "execution_count": 18,
      "outputs": [
        {
          "output_type": "execute_result",
          "data": {
            "text/plain": [
              "4"
            ]
          },
          "metadata": {},
          "execution_count": 18
        }
      ]
    },
    {
      "cell_type": "code",
      "metadata": {
        "colab": {
          "base_uri": "https://localhost:8080/"
        },
        "id": "oz61mn_5bKVw",
        "outputId": "799f8c68-f0c3-4e58-a8fd-2cba742e63bb"
      },
      "source": [
        "#or \n",
        "a[1, 0]"
      ],
      "execution_count": 19,
      "outputs": [
        {
          "output_type": "execute_result",
          "data": {
            "text/plain": [
              "4"
            ]
          },
          "metadata": {},
          "execution_count": 19
        }
      ]
    },
    {
      "cell_type": "code",
      "metadata": {
        "colab": {
          "base_uri": "https://localhost:8080/"
        },
        "id": "_EzLtOAmbg_V",
        "outputId": "2eea8dac-a08f-4585-c9a4-c8ed1a1069ce"
      },
      "source": [
        "a[:2]"
      ],
      "execution_count": 20,
      "outputs": [
        {
          "output_type": "execute_result",
          "data": {
            "text/plain": [
              "array([[1, 2, 3],\n",
              "       [4, 5, 6]])"
            ]
          },
          "metadata": {},
          "execution_count": 20
        }
      ]
    },
    {
      "cell_type": "code",
      "metadata": {
        "colab": {
          "base_uri": "https://localhost:8080/"
        },
        "id": "yZDr5xA2b1Jt",
        "outputId": "a57d8be2-8808-448d-b768-c1c1954572e0"
      },
      "source": [
        "a[:, :2]    #a[d1, d2, d3, d4]"
      ],
      "execution_count": 21,
      "outputs": [
        {
          "output_type": "execute_result",
          "data": {
            "text/plain": [
              "array([[1, 2],\n",
              "       [4, 5],\n",
              "       [7, 8]])"
            ]
          },
          "metadata": {},
          "execution_count": 21
        }
      ]
    },
    {
      "cell_type": "code",
      "metadata": {
        "colab": {
          "base_uri": "https://localhost:8080/"
        },
        "id": "1gtlGwN9b3mx",
        "outputId": "c57c6b8f-55b6-47e2-e012-e4b8e97ccc7c"
      },
      "source": [
        "a[1] = np.array([2,2,2])\n",
        "a"
      ],
      "execution_count": 22,
      "outputs": [
        {
          "output_type": "execute_result",
          "data": {
            "text/plain": [
              "array([[1, 2, 3],\n",
              "       [2, 2, 2],\n",
              "       [7, 8, 9]])"
            ]
          },
          "metadata": {},
          "execution_count": 22
        }
      ]
    },
    {
      "cell_type": "code",
      "metadata": {
        "colab": {
          "base_uri": "https://localhost:8080/"
        },
        "id": "pMVc8VVvcVxj",
        "outputId": "02680728-ad92-4396-990d-6c5f10589940"
      },
      "source": [
        "#or we can just leave it to numpy\n",
        "a[2]= 10\n",
        "a"
      ],
      "execution_count": 23,
      "outputs": [
        {
          "output_type": "execute_result",
          "data": {
            "text/plain": [
              "array([[ 1,  2,  3],\n",
              "       [ 2,  2,  2],\n",
              "       [10, 10, 10]])"
            ]
          },
          "metadata": {},
          "execution_count": 23
        }
      ]
    },
    {
      "cell_type": "code",
      "metadata": {
        "id": "txhPZM0bcdNk"
      },
      "source": [
        "# STATS\n",
        "\n",
        "a = np.array([1,2,3,4], dtype='int8')"
      ],
      "execution_count": 24,
      "outputs": []
    },
    {
      "cell_type": "code",
      "metadata": {
        "colab": {
          "base_uri": "https://localhost:8080/"
        },
        "id": "MCzLvRM_cplQ",
        "outputId": "762aacfd-58cc-4ba2-80b1-a6e567d570e0"
      },
      "source": [
        "print(a.max(), a.min(), a.sum(), a.mean(), a.std(), a.var())"
      ],
      "execution_count": 25,
      "outputs": [
        {
          "output_type": "stream",
          "name": "stdout",
          "text": [
            "4 1 10 2.5 1.118033988749895 1.25\n"
          ]
        }
      ]
    },
    {
      "cell_type": "code",
      "metadata": {
        "id": "NUAsxgBYc0x7",
        "colab": {
          "base_uri": "https://localhost:8080/"
        },
        "outputId": "e335de30-3bf9-4a0f-e0ee-e24a59df2fa4"
      },
      "source": [
        "a= np.array([\n",
        "    [1,2,3],\n",
        "    [4,5,6],\n",
        "    [7,8,9]\n",
        "])\n",
        "print(a.sum(), a.sum(axis=0), a.sum(axis=1))"
      ],
      "execution_count": 28,
      "outputs": [
        {
          "output_type": "stream",
          "name": "stdout",
          "text": [
            "45 [12 15 18] [ 6 15 24]\n"
          ]
        }
      ]
    },
    {
      "cell_type": "code",
      "metadata": {
        "colab": {
          "base_uri": "https://localhost:8080/"
        },
        "id": "jTMOTwMthfqk",
        "outputId": "2746cbe3-60fb-4d49-e6fd-7c8c07524725"
      },
      "source": [
        "b = np.zeros((2,3))\n",
        "b"
      ],
      "execution_count": 30,
      "outputs": [
        {
          "output_type": "execute_result",
          "data": {
            "text/plain": [
              "array([[0., 0., 0.],\n",
              "       [0., 0., 0.]])"
            ]
          },
          "metadata": {},
          "execution_count": 30
        }
      ]
    },
    {
      "cell_type": "code",
      "metadata": {
        "colab": {
          "base_uri": "https://localhost:8080/"
        },
        "id": "6U_mdgB7iet6",
        "outputId": "1405e493-9bce-43b0-f6eb-e4c305fb57b4"
      },
      "source": [
        "#broadcasting and vectorized operations\n",
        "a = np.arange(4)\n",
        "a"
      ],
      "execution_count": 32,
      "outputs": [
        {
          "output_type": "execute_result",
          "data": {
            "text/plain": [
              "array([0, 1, 2, 3])"
            ]
          },
          "metadata": {},
          "execution_count": 32
        }
      ]
    },
    {
      "cell_type": "code",
      "metadata": {
        "colab": {
          "base_uri": "https://localhost:8080/"
        },
        "id": "05Q4biVCisEs",
        "outputId": "3de5a210-b46c-4712-9d91-c7eb79704868"
      },
      "source": [
        "b = np.arange(2,20,2)\n",
        "b"
      ],
      "execution_count": 33,
      "outputs": [
        {
          "output_type": "execute_result",
          "data": {
            "text/plain": [
              "array([ 2,  4,  6,  8, 10, 12, 14, 16, 18])"
            ]
          },
          "metadata": {},
          "execution_count": 33
        }
      ]
    },
    {
      "cell_type": "code",
      "metadata": {
        "colab": {
          "base_uri": "https://localhost:8080/"
        },
        "id": "shO2NsJtjNwq",
        "outputId": "f37bd738-5784-48e5-83d2-7c0b14b3ed29"
      },
      "source": [
        "a + 10"
      ],
      "execution_count": 35,
      "outputs": [
        {
          "output_type": "execute_result",
          "data": {
            "text/plain": [
              "array([10, 11, 12, 13])"
            ]
          },
          "metadata": {},
          "execution_count": 35
        }
      ]
    },
    {
      "cell_type": "code",
      "metadata": {
        "colab": {
          "base_uri": "https://localhost:8080/"
        },
        "id": "N39WjnYTjxS0",
        "outputId": "5501b0ed-224b-4684-d97b-ac2cb42aee16"
      },
      "source": [
        "b * 10"
      ],
      "execution_count": 36,
      "outputs": [
        {
          "output_type": "execute_result",
          "data": {
            "text/plain": [
              "array([ 20,  40,  60,  80, 100, 120, 140, 160, 180])"
            ]
          },
          "metadata": {},
          "execution_count": 36
        }
      ]
    },
    {
      "cell_type": "code",
      "metadata": {
        "colab": {
          "base_uri": "https://localhost:8080/",
          "height": 183
        },
        "id": "PWl7VwvGj6Kq",
        "outputId": "84d3a6bb-f242-4564-a029-b98f334b1f13"
      },
      "source": [
        "l = [1,2,3,4]\n",
        "l + 10   #won't work"
      ],
      "execution_count": 37,
      "outputs": [
        {
          "output_type": "error",
          "ename": "TypeError",
          "evalue": "ignored",
          "traceback": [
            "\u001b[0;31m---------------------------------------------------------------------------\u001b[0m",
            "\u001b[0;31mTypeError\u001b[0m                                 Traceback (most recent call last)",
            "\u001b[0;32m<ipython-input-37-7c6a0d775d68>\u001b[0m in \u001b[0;36m<module>\u001b[0;34m()\u001b[0m\n\u001b[1;32m      1\u001b[0m \u001b[0ml\u001b[0m \u001b[0;34m=\u001b[0m \u001b[0;34m[\u001b[0m\u001b[0;36m1\u001b[0m\u001b[0;34m,\u001b[0m\u001b[0;36m2\u001b[0m\u001b[0;34m,\u001b[0m\u001b[0;36m3\u001b[0m\u001b[0;34m,\u001b[0m\u001b[0;36m4\u001b[0m\u001b[0;34m]\u001b[0m\u001b[0;34m\u001b[0m\u001b[0;34m\u001b[0m\u001b[0m\n\u001b[0;32m----> 2\u001b[0;31m \u001b[0ml\u001b[0m \u001b[0;34m+\u001b[0m \u001b[0;36m10\u001b[0m\u001b[0;34m\u001b[0m\u001b[0;34m\u001b[0m\u001b[0m\n\u001b[0m",
            "\u001b[0;31mTypeError\u001b[0m: can only concatenate list (not \"int\") to list"
          ]
        }
      ]
    },
    {
      "cell_type": "code",
      "metadata": {
        "colab": {
          "base_uri": "https://localhost:8080/"
        },
        "id": "cXNYD4TWkmXF",
        "outputId": "1dd9973e-0194-4ccf-ffa3-dd3832f2fe2f"
      },
      "source": [
        "# Boolean arrays\n",
        "a"
      ],
      "execution_count": 38,
      "outputs": [
        {
          "output_type": "execute_result",
          "data": {
            "text/plain": [
              "array([0, 1, 2, 3])"
            ]
          },
          "metadata": {},
          "execution_count": 38
        }
      ]
    },
    {
      "cell_type": "code",
      "metadata": {
        "colab": {
          "base_uri": "https://localhost:8080/"
        },
        "id": "R3Zns255lgcP",
        "outputId": "9f1ab1f7-11e9-42bf-ade2-5c197d63697e"
      },
      "source": [
        "a[[0,-1]]"
      ],
      "execution_count": 39,
      "outputs": [
        {
          "output_type": "execute_result",
          "data": {
            "text/plain": [
              "array([0, 3])"
            ]
          },
          "metadata": {},
          "execution_count": 39
        }
      ]
    },
    {
      "cell_type": "code",
      "metadata": {
        "colab": {
          "base_uri": "https://localhost:8080/"
        },
        "id": "dqNEZA2jljIX",
        "outputId": "41828c9b-440e-441d-9fd8-041567ff201e"
      },
      "source": [
        "a[[True, False, False, True]]"
      ],
      "execution_count": 42,
      "outputs": [
        {
          "output_type": "execute_result",
          "data": {
            "text/plain": [
              "array([0, 3])"
            ]
          },
          "metadata": {},
          "execution_count": 42
        }
      ]
    },
    {
      "cell_type": "code",
      "metadata": {
        "colab": {
          "base_uri": "https://localhost:8080/"
        },
        "id": "WR_in4ZDlog9",
        "outputId": "2e7c8433-4056-4158-e767-ccc99c242ff0"
      },
      "source": [
        "a >= 2"
      ],
      "execution_count": 43,
      "outputs": [
        {
          "output_type": "execute_result",
          "data": {
            "text/plain": [
              "array([False, False,  True,  True])"
            ]
          },
          "metadata": {},
          "execution_count": 43
        }
      ]
    },
    {
      "cell_type": "code",
      "metadata": {
        "colab": {
          "base_uri": "https://localhost:8080/"
        },
        "id": "836MH2Ycmg74",
        "outputId": "285b259f-c47b-4156-fbf0-891196905b34"
      },
      "source": [
        "a[a >= 2]"
      ],
      "execution_count": 44,
      "outputs": [
        {
          "output_type": "execute_result",
          "data": {
            "text/plain": [
              "array([2, 3])"
            ]
          },
          "metadata": {},
          "execution_count": 44
        }
      ]
    },
    {
      "cell_type": "code",
      "metadata": {
        "colab": {
          "base_uri": "https://localhost:8080/"
        },
        "id": "sbp8R2-emnSx",
        "outputId": "3c93b068-7f7a-460c-b260-7092cf04b425"
      },
      "source": [
        "a[a >= a.mean()]"
      ],
      "execution_count": 47,
      "outputs": [
        {
          "output_type": "execute_result",
          "data": {
            "text/plain": [
              "array([2, 3])"
            ]
          },
          "metadata": {},
          "execution_count": 47
        }
      ]
    },
    {
      "cell_type": "code",
      "metadata": {
        "colab": {
          "base_uri": "https://localhost:8080/"
        },
        "id": "Rm0-JuN6mvtg",
        "outputId": "d5b3a7ef-ce8c-40b8-90ff-42c0c921f911"
      },
      "source": [
        "a[~(a >= a.mean())]"
      ],
      "execution_count": 48,
      "outputs": [
        {
          "output_type": "execute_result",
          "data": {
            "text/plain": [
              "array([0, 1])"
            ]
          },
          "metadata": {},
          "execution_count": 48
        }
      ]
    },
    {
      "cell_type": "code",
      "metadata": {
        "colab": {
          "base_uri": "https://localhost:8080/"
        },
        "id": "zgu1RM3KnG0c",
        "outputId": "2f9e1762-d940-4281-b7ee-238914144304"
      },
      "source": [
        "a[(a==0) | (a==1)]"
      ],
      "execution_count": 50,
      "outputs": [
        {
          "output_type": "execute_result",
          "data": {
            "text/plain": [
              "array([0, 1])"
            ]
          },
          "metadata": {},
          "execution_count": 50
        }
      ]
    },
    {
      "cell_type": "code",
      "metadata": {
        "id": "XKy7SKFknNWn"
      },
      "source": [
        "#linear algebra\n",
        "a = np.array([\n",
        "              [1,2,3],\n",
        "              [4,4,4],\n",
        "              [5,6,7]\n",
        "])\n",
        "\n",
        "b = np.array([\n",
        "              [10,20],\n",
        "              [50,60],\n",
        "              [70,8]\n",
        "])"
      ],
      "execution_count": 53,
      "outputs": []
    },
    {
      "cell_type": "code",
      "metadata": {
        "colab": {
          "base_uri": "https://localhost:8080/"
        },
        "id": "0UA2Qmy98ONi",
        "outputId": "8c561a36-8f63-4860-bd6e-411241bf739d"
      },
      "source": [
        "a.dot(b)    #dot product"
      ],
      "execution_count": 54,
      "outputs": [
        {
          "output_type": "execute_result",
          "data": {
            "text/plain": [
              "array([[320, 164],\n",
              "       [520, 352],\n",
              "       [840, 516]])"
            ]
          },
          "metadata": {},
          "execution_count": 54
        }
      ]
    },
    {
      "cell_type": "code",
      "metadata": {
        "colab": {
          "base_uri": "https://localhost:8080/"
        },
        "id": "xv_dHzQc8b_u",
        "outputId": "56b7975b-883d-4ff7-b44a-b619fafd5b8d"
      },
      "source": [
        "a @ b   #dot product"
      ],
      "execution_count": 55,
      "outputs": [
        {
          "output_type": "execute_result",
          "data": {
            "text/plain": [
              "array([[320, 164],\n",
              "       [520, 352],\n",
              "       [840, 516]])"
            ]
          },
          "metadata": {},
          "execution_count": 55
        }
      ]
    },
    {
      "cell_type": "code",
      "metadata": {
        "colab": {
          "base_uri": "https://localhost:8080/"
        },
        "id": "Egwmpj118jbA",
        "outputId": "21e514c7-cdf5-4547-ca4a-8bfa5244eac7"
      },
      "source": [
        "b.T    #transpose"
      ],
      "execution_count": 56,
      "outputs": [
        {
          "output_type": "execute_result",
          "data": {
            "text/plain": [
              "array([[10, 50, 70],\n",
              "       [20, 60,  8]])"
            ]
          },
          "metadata": {},
          "execution_count": 56
        }
      ]
    },
    {
      "cell_type": "code",
      "metadata": {
        "colab": {
          "base_uri": "https://localhost:8080/"
        },
        "id": "KWsl4C7a8t1z",
        "outputId": "b92af0b1-e82b-43a8-b06f-b8043249722d"
      },
      "source": [
        "b.T @ a"
      ],
      "execution_count": 59,
      "outputs": [
        {
          "output_type": "execute_result",
          "data": {
            "text/plain": [
              "array([[560, 640, 720],\n",
              "       [300, 328, 356]])"
            ]
          },
          "metadata": {},
          "execution_count": 59
        }
      ]
    },
    {
      "cell_type": "code",
      "metadata": {
        "colab": {
          "base_uri": "https://localhost:8080/"
        },
        "id": "MAHa8uaY8x_3",
        "outputId": "8da338e5-8efe-4f79-ec66-bb54b727cbcf"
      },
      "source": [
        "# sizes\n",
        "import sys\n",
        "sys.getsizeof(1)     #unnecessarily large"
      ],
      "execution_count": 63,
      "outputs": [
        {
          "output_type": "execute_result",
          "data": {
            "text/plain": [
              "28"
            ]
          },
          "metadata": {},
          "execution_count": 63
        }
      ]
    },
    {
      "cell_type": "code",
      "metadata": {
        "colab": {
          "base_uri": "https://localhost:8080/"
        },
        "id": "V_tM55SX9w5y",
        "outputId": "389686a7-8b80-4e97-9598-4c8d01b57761"
      },
      "source": [
        "sys.getsizeof(10**100)     #longs even larger"
      ],
      "execution_count": 64,
      "outputs": [
        {
          "output_type": "execute_result",
          "data": {
            "text/plain": [
              "72"
            ]
          },
          "metadata": {},
          "execution_count": 64
        }
      ]
    },
    {
      "cell_type": "code",
      "metadata": {
        "colab": {
          "base_uri": "https://localhost:8080/"
        },
        "id": "KVNd6bSd-hqH",
        "outputId": "3f70fb5c-fed5-48c5-a6c0-a7919579dcbe"
      },
      "source": [
        "np.dtype(int).itemsize         #comparatively smaller"
      ],
      "execution_count": 65,
      "outputs": [
        {
          "output_type": "execute_result",
          "data": {
            "text/plain": [
              "8"
            ]
          },
          "metadata": {},
          "execution_count": 65
        }
      ]
    },
    {
      "cell_type": "code",
      "metadata": {
        "colab": {
          "base_uri": "https://localhost:8080/"
        },
        "id": "iQY3V5ja-osR",
        "outputId": "7f95a010-94c5-4ee1-ecb4-eb91b9200ca9"
      },
      "source": [
        "np.dtype(np.int8).itemsize       #very small"
      ],
      "execution_count": 66,
      "outputs": [
        {
          "output_type": "execute_result",
          "data": {
            "text/plain": [
              "1"
            ]
          },
          "metadata": {},
          "execution_count": 66
        }
      ]
    },
    {
      "cell_type": "code",
      "metadata": {
        "colab": {
          "base_uri": "https://localhost:8080/"
        },
        "id": "Z9gED_V6-0LO",
        "outputId": "07288375-0b6d-457a-c2d9-ef855cc90080"
      },
      "source": [
        "np.dtype(float).itemsize  "
      ],
      "execution_count": 67,
      "outputs": [
        {
          "output_type": "execute_result",
          "data": {
            "text/plain": [
              "8"
            ]
          },
          "metadata": {},
          "execution_count": 67
        }
      ]
    },
    {
      "cell_type": "code",
      "metadata": {
        "colab": {
          "base_uri": "https://localhost:8080/"
        },
        "id": "E_ffRaBF_T-3",
        "outputId": "98bbc33d-81fd-4df3-c48b-481e541d89ee"
      },
      "source": [
        "sys.getsizeof([1])       #even lists are larger"
      ],
      "execution_count": 68,
      "outputs": [
        {
          "output_type": "execute_result",
          "data": {
            "text/plain": [
              "80"
            ]
          },
          "metadata": {},
          "execution_count": 68
        }
      ]
    },
    {
      "cell_type": "code",
      "metadata": {
        "colab": {
          "base_uri": "https://localhost:8080/"
        },
        "id": "HaNq6_it_gHE",
        "outputId": "a5c3b694-d74f-46f0-b7a6-b4740318cc6d"
      },
      "source": [
        "np.array([1]).nbytes"
      ],
      "execution_count": 69,
      "outputs": [
        {
          "output_type": "execute_result",
          "data": {
            "text/plain": [
              "8"
            ]
          },
          "metadata": {},
          "execution_count": 69
        }
      ]
    },
    {
      "cell_type": "code",
      "metadata": {
        "id": "TfjZcZLJ_p_I"
      },
      "source": [
        "#time performance\n",
        "\n",
        "l = list(range(1000))\n",
        "a = np.arange(1000)"
      ],
      "execution_count": 77,
      "outputs": []
    },
    {
      "cell_type": "code",
      "metadata": {
        "colab": {
          "base_uri": "https://localhost:8080/"
        },
        "id": "mTFt_RzKADCj",
        "outputId": "98d88fff-f4d3-49d1-9bbe-6983da4623f3"
      },
      "source": [
        "%time sum([x**2 for x in l])"
      ],
      "execution_count": 78,
      "outputs": [
        {
          "output_type": "stream",
          "name": "stdout",
          "text": [
            "CPU times: user 470 µs, sys: 0 ns, total: 470 µs\n",
            "Wall time: 478 µs\n"
          ]
        },
        {
          "output_type": "execute_result",
          "data": {
            "text/plain": [
              "332833500"
            ]
          },
          "metadata": {},
          "execution_count": 78
        }
      ]
    },
    {
      "cell_type": "code",
      "metadata": {
        "colab": {
          "base_uri": "https://localhost:8080/"
        },
        "id": "pUJ99XMRAdQF",
        "outputId": "3764ff43-ca8c-469d-9960-a8e53ff1c89f"
      },
      "source": [
        "%time sum(a**2)"
      ],
      "execution_count": 79,
      "outputs": [
        {
          "output_type": "stream",
          "name": "stdout",
          "text": [
            "CPU times: user 300 µs, sys: 0 ns, total: 300 µs\n",
            "Wall time: 268 µs\n"
          ]
        },
        {
          "output_type": "execute_result",
          "data": {
            "text/plain": [
              "332833500"
            ]
          },
          "metadata": {},
          "execution_count": 79
        }
      ]
    },
    {
      "cell_type": "code",
      "metadata": {
        "id": "AtdIY6plAg57"
      },
      "source": [
        "#also see reshape, linspace, zeros, ones, empty, identity, eye"
      ],
      "execution_count": null,
      "outputs": []
    }
  ]
}